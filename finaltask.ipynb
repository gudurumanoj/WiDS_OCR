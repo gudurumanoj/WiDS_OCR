{
 "cells": [
  {
   "cell_type": "code",
   "execution_count": 1,
   "id": "67e55c61",
   "metadata": {},
   "outputs": [],
   "source": [
    "import cv2 as cv\n",
    "import numpy as np"
   ]
  },
  {
   "cell_type": "code",
   "execution_count": 2,
   "id": "47255f04",
   "metadata": {},
   "outputs": [
    {
     "data": {
      "text/plain": [
       "-1"
      ]
     },
     "execution_count": 2,
     "metadata": {},
     "output_type": "execute_result"
    }
   ],
   "source": [
    "textimg = cv.imread('image.jpeg')\n",
    "cv.imshow('image', textimg)\n",
    "cv.waitKey(0)"
   ]
  },
  {
   "cell_type": "code",
   "execution_count": 3,
   "id": "57a81fc1",
   "metadata": {},
   "outputs": [
    {
     "data": {
      "text/plain": [
       "-1"
      ]
     },
     "execution_count": 3,
     "metadata": {},
     "output_type": "execute_result"
    }
   ],
   "source": [
    "grayimg = cv.cvtColor(textimg, cv.COLOR_BGR2GRAY)\n",
    "cv.imshow('grayimg',grayimg)\n",
    "cv.waitKey(0)"
   ]
  },
  {
   "cell_type": "code",
   "execution_count": 4,
   "id": "8312e957",
   "metadata": {},
   "outputs": [],
   "source": [
    "resized = cv.resize(grayimg,(720,720),interpolation = cv.INTER_CUBIC)\n",
    "resized_color = cv.resize(textimg,(720,720),interpolation = cv.INTER_CUBIC)\n",
    "baseimg = resized.copy()\n",
    "# cv.imshow('grayimg',resized)\n",
    "# cv.waitKey(0)"
   ]
  },
  {
   "cell_type": "markdown",
   "id": "b40934df",
   "metadata": {},
   "source": [
    "### Segmenting into lines"
   ]
  },
  {
   "cell_type": "code",
   "execution_count": 5,
   "id": "61b680fd",
   "metadata": {},
   "outputs": [
    {
     "data": {
      "text/plain": [
       "-1"
      ]
     },
     "execution_count": 5,
     "metadata": {},
     "output_type": "execute_result"
    }
   ],
   "source": [
    "blur = cv.GaussianBlur(resized, (7,7), 0)\n",
    "cv.imshow('grayimg',blur)\n",
    "cv.waitKey(0)"
   ]
  },
  {
   "cell_type": "code",
   "execution_count": 6,
   "id": "2bed41c6",
   "metadata": {},
   "outputs": [
    {
     "data": {
      "text/plain": [
       "-1"
      ]
     },
     "execution_count": 6,
     "metadata": {},
     "output_type": "execute_result"
    }
   ],
   "source": [
    "ret,thresh = cv.threshold(blur, 0, 255, cv.THRESH_BINARY_INV + cv.THRESH_OTSU)\n",
    "cv.imshow('grayimg',thresh)\n",
    "cv.waitKey(0)"
   ]
  },
  {
   "cell_type": "code",
   "execution_count": 7,
   "id": "af388fbf",
   "metadata": {},
   "outputs": [
    {
     "data": {
      "text/plain": [
       "-1"
      ]
     },
     "execution_count": 7,
     "metadata": {},
     "output_type": "execute_result"
    }
   ],
   "source": [
    "kernel = cv.getStructuringElement(cv.MORPH_RECT, (20,1))\n",
    "dilate = cv.dilate(thresh, kernel, iterations=1)\n",
    "cv.imshow('grayimg',dilate)\n",
    "cv.waitKey(0)"
   ]
  },
  {
   "cell_type": "code",
   "execution_count": 20,
   "id": "852c7359",
   "metadata": {},
   "outputs": [
    {
     "data": {
      "text/plain": [
       "-1"
      ]
     },
     "execution_count": 20,
     "metadata": {},
     "output_type": "execute_result"
    }
   ],
   "source": [
    "cnts, hierarchy = cv.findContours(dilate, cv.RETR_EXTERNAL, cv.CHAIN_APPROX_SIMPLE)\n",
    "# cnts = cnts[0] if len(cnts) == 2 else cnts[1]\n",
    "cnts = sorted(cnts, key=lambda x: cv.boundingRect(x)[1])\n",
    "sentences = list()\n",
    "for c in cnts:\n",
    "    x,y,w,h = cv.boundingRect(c)\n",
    "    if h < 20 and w > 50:\n",
    "        sentences.append(resized[y:y+h, x:x+w])\n",
    "        cv.rectangle(resized_color, (x, y), (x + w, y + h), (0,255,0), 1)\n",
    "#       cv.rectangle(resized, (x, y), (x + w, y + h), (0,255,0), 1)\n",
    "cv.imshow('boxed', resized_color)\n",
    "# cv.imshow('boxed', resized)\n",
    "cv.waitKey(0)"
   ]
  },
  {
   "cell_type": "markdown",
   "id": "57bb04f7",
   "metadata": {},
   "source": [
    "### Segmenting into words"
   ]
  },
  {
   "cell_type": "code",
   "execution_count": null,
   "id": "de32f85e",
   "metadata": {},
   "outputs": [],
   "source": []
  }
 ],
 "metadata": {
  "kernelspec": {
   "display_name": "Python 3 (ipykernel)",
   "language": "python",
   "name": "python3"
  },
  "language_info": {
   "codemirror_mode": {
    "name": "ipython",
    "version": 3
   },
   "file_extension": ".py",
   "mimetype": "text/x-python",
   "name": "python",
   "nbconvert_exporter": "python",
   "pygments_lexer": "ipython3",
   "version": "3.9.4"
  }
 },
 "nbformat": 4,
 "nbformat_minor": 5
}
