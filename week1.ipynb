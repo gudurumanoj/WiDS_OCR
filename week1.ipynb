{
 "cells": [
  {
   "cell_type": "code",
   "execution_count": 1,
   "id": "2918ffc8",
   "metadata": {},
   "outputs": [],
   "source": [
    "import cv2 as cv\n",
    "import numpy as np\n",
    "import pytesseract as pyt\n",
    "import matplotlib.pyplot as plt\n",
    "import numpy as np\n",
    "\n",
    "# pyt.pytesseract.tesseract_cmd = r'C:\\Program Files\\Tesseract-OCR\\tesseract.exe'\n",
    "# custom_config = r'--oem 3 --psm 6'\n",
    "\n",
    "# #utility function\n",
    "# def display(im_data):\n",
    "#     dpi = 80\n",
    "\n",
    "#     height, width  = im_data.shape[:2]\n",
    "    \n",
    "#     # What size does the figure need to be in inches to fit the image?\n",
    "#     figsize = width / float(dpi), height / float(dpi)\n",
    "\n",
    "#     # Create a figure of the right size with one axes that takes up the full figure\n",
    "#     fig = plt.figure(figsize=figsize)\n",
    "#     ax = fig.add_axes([0, 0, 1, 1])\n",
    "\n",
    "#     # Hide spines, ticks, etc.\n",
    "#     ax.axis('off')\n",
    "\n",
    "#     # Display the image.\n",
    "#     ax.imshow(im_data, cmap='gray')\n",
    "\n",
    "#     plt.show()"
   ]
  },
  {
   "cell_type": "code",
   "execution_count": 3,
   "id": "6e6881db",
   "metadata": {},
   "outputs": [
    {
     "name": "stdout",
     "output_type": "stream",
     "text": [
      "(1280, 839, 3)\n"
     ]
    },
    {
     "data": {
      "text/plain": [
       "-1"
      ]
     },
     "execution_count": 3,
     "metadata": {},
     "output_type": "execute_result"
    }
   ],
   "source": [
    "img = cv.imread('images/bookimg.jpeg')\n",
    "print(img.shape)\n",
    "cv.imshow('Loaded Image', img)\n",
    "cv.waitKey(0)"
   ]
  },
  {
   "cell_type": "code",
   "execution_count": 3,
   "id": "ddad9241",
   "metadata": {},
   "outputs": [],
   "source": [
    "\n",
    "# print(pyt.image_to_string(img, config=custom_config))"
   ]
  },
  {
   "cell_type": "code",
   "execution_count": 4,
   "id": "7e93434b",
   "metadata": {},
   "outputs": [
    {
     "data": {
      "text/plain": [
       "-1"
      ]
     },
     "execution_count": 4,
     "metadata": {},
     "output_type": "execute_result"
    }
   ],
   "source": [
    "# get grayscale image\n",
    "def get_grayscale(image):\n",
    "    return cv.cvtColor(image, cv.COLOR_BGR2GRAY)\n",
    "\n",
    "#reshaping the image \n",
    "def reshape(image):\n",
    "    if ((image.shape[0] > 500) or (img.shape[1] > 500)):\n",
    "        return cv.resize(image,(500,500),interpolation = cv.INTER_CUBIC)\n",
    "\n",
    "img1 = reshape(get_grayscale(img))\n",
    "cv.imshow('Image_2', img1)\n",
    "cv.waitKey(0)"
   ]
  },
  {
   "cell_type": "code",
   "execution_count": 5,
   "id": "96a6ea09",
   "metadata": {},
   "outputs": [],
   "source": [
    "# image2 = cv.imread('images/image2.jpeg')\n",
    "# image2 = reshape(image2)\n",
    "# cv.imshow('Image_2', image2)\n",
    "# cv.waitKey(0)"
   ]
  },
  {
   "cell_type": "code",
   "execution_count": 6,
   "id": "a27176b2",
   "metadata": {},
   "outputs": [],
   "source": [
    "# img2 = get_grayscale(image2)\n",
    "# cv.imshow('gray_image_2',img2)\n",
    "# cv.waitKey(0)"
   ]
  },
  {
   "cell_type": "code",
   "execution_count": 7,
   "id": "c69360ef",
   "metadata": {},
   "outputs": [],
   "source": [
    "# print(pyt.image_to_string(img2, config=custom_config))"
   ]
  },
  {
   "cell_type": "code",
   "execution_count": 8,
   "id": "5338a624",
   "metadata": {},
   "outputs": [],
   "source": [
    "# def thin_font(image):\n",
    "#     # eroding needs flipping of text, but the image we are passing already has text in whitish color only\n",
    "# #     image = cv.bitwise_not(image)\n",
    "#     cv.imshow('calledimage',image)\n",
    "#     kernel = np.ones((2,2),np.uint8)\n",
    "#     image = cv.erode(image, kernel, iterations=1)\n",
    "# #     image = cv.bitwise_not(image)\n",
    "#     return (image)\n",
    "\n",
    "# imgthin = thin_font(img2)\n",
    "# cv.imshow('gray_image_2',imgthin)\n",
    "# cv.waitKey(0)"
   ]
  },
  {
   "cell_type": "code",
   "execution_count": 9,
   "id": "58efcc24",
   "metadata": {},
   "outputs": [],
   "source": [
    "# thresh, im_bw = cv.threshold(img2, 190, 255, cv.THRESH_BINARY)\n",
    "# cv.imshow('im_bw',im_bw)\n",
    "# print(pyt.image_to_string(im_bw, config=custom_config))\n",
    "# cv.waitKey(0)"
   ]
  },
  {
   "cell_type": "code",
   "execution_count": 10,
   "id": "f5c230eb",
   "metadata": {},
   "outputs": [
    {
     "data": {
      "text/plain": [
       "-1"
      ]
     },
     "execution_count": 10,
     "metadata": {},
     "output_type": "execute_result"
    }
   ],
   "source": [
    "noiseimg = cv.imread('images/noiseimg2.png')\n",
    "cv.imshow('noise image', noiseimg)\n",
    "cv.waitKey(0)"
   ]
  },
  {
   "cell_type": "code",
   "execution_count": 11,
   "id": "f0f81c2c",
   "metadata": {},
   "outputs": [
    {
     "data": {
      "text/plain": [
       "-1"
      ]
     },
     "execution_count": 11,
     "metadata": {},
     "output_type": "execute_result"
    }
   ],
   "source": [
    "graynoiseimg = get_grayscale(noiseimg)\n",
    "cv.imshow('gray noise image', graynoiseimg)\n",
    "cv.waitKey(0)"
   ]
  },
  {
   "cell_type": "code",
   "execution_count": 50,
   "id": "e1ed6d1f",
   "metadata": {},
   "outputs": [
    {
     "data": {
      "text/plain": [
       "-1"
      ]
     },
     "execution_count": 50,
     "metadata": {},
     "output_type": "execute_result"
    }
   ],
   "source": [
    "blurimg = cv.GaussianBlur(graynoiseimg, (3, 3), 0)\n",
    "cv.imshow('blurimg',blurimg)\n",
    "cv.waitKey(0)"
   ]
  },
  {
   "cell_type": "code",
   "execution_count": 51,
   "id": "ff1287ab",
   "metadata": {},
   "outputs": [
    {
     "data": {
      "text/plain": [
       "-1"
      ]
     },
     "execution_count": 51,
     "metadata": {},
     "output_type": "execute_result"
    }
   ],
   "source": [
    "thresh, im_bw = cv.threshold(blurimg, 130, 255, cv.THRESH_BINARY)\n",
    "cv.imshow('im_bw',im_bw)\n",
    "\n",
    "cv.waitKey(0)"
   ]
  },
  {
   "cell_type": "code",
   "execution_count": 43,
   "id": "41681015",
   "metadata": {},
   "outputs": [
    {
     "data": {
      "text/plain": [
       "-1"
      ]
     },
     "execution_count": 43,
     "metadata": {},
     "output_type": "execute_result"
    }
   ],
   "source": [
    "# finalimg_median =  cv.medianBlur(im_bw,3)\n",
    "# cv.imshow('finalimg_median',finalimg_median)\n",
    "finalimage_gaussian = cv.GaussianBlur(im_bw, (3, 3), 0)\n",
    "cv.imshow('finalimg_ga',finalimage_gaussian)\n",
    "\n",
    "# finalimage_average = cv.blur(im_bw,(3,3))\n",
    "# cv.imshow('average blur', finalimage_average)\n",
    "cv.waitKey(0)"
   ]
  },
  {
   "cell_type": "code",
   "execution_count": 47,
   "id": "e09a3911",
   "metadata": {},
   "outputs": [
    {
     "data": {
      "text/plain": [
       "-1"
      ]
     },
     "execution_count": 47,
     "metadata": {},
     "output_type": "execute_result"
    }
   ],
   "source": [
    "# thresh2, im_bw2 = cv.threshold(finalimage_gaussian, 200, 255, cv.THRESH_BINARY)\n",
    "# cv.imshow('im_bw2',im_bw2)\n",
    "# cv.waitKey(0)"
   ]
  },
  {
   "cell_type": "code",
   "execution_count": 38,
   "id": "6fba95f1",
   "metadata": {},
   "outputs": [
    {
     "data": {
      "text/plain": [
       "-1"
      ]
     },
     "execution_count": 38,
     "metadata": {},
     "output_type": "execute_result"
    }
   ],
   "source": [
    "# # kernel1 = cv.getStructuringElement(cv.MORPH_CROSS,(3,3))\n",
    "# kernel = np.ones((2,2),np.uint8)\n",
    "# image = cv.bitwise_not(im_bw2)\n",
    "# erode = cv.erode(image,kernel, iterations = 1)\n",
    "# erode = cv.bitwise_not(erode)\n",
    "# cv.imshow('thinned', erode)\n",
    "# kernel1 = np.ones((3,3),np.uint8)\n",
    "# image1 = cv.bitwise_not(erode)\n",
    "# erode1 = cv.erode(image1,kernel1, iterations = 1)\n",
    "# erode1 = cv.bitwise_not(erode1)\n",
    "# cv.imshow('thinned1', erode1)\n",
    "# cv.waitKey(0)"
   ]
  },
  {
   "cell_type": "code",
   "execution_count": 49,
   "id": "aec851cb",
   "metadata": {},
   "outputs": [
    {
     "name": "stdout",
     "output_type": "stream",
     "text": [
      "And, after boasting this way of my\n",
      "tolerance, | come to thé admission\n",
      "that it has a limit. Conduct may be\n",
      "founded.on the hard rock or the\n",
      "\n",
      "wet marshes but after a certain\n",
      "paint | den't care what it's founded\n",
      "on. When | came back from the East\n",
      "last autumn | felt that | wanted the\n",
      "world to be in uniform and at a sort\n",
      "of moral attention forever;\n",
      "\n"
     ]
    }
   ],
   "source": [
    "\n",
    "print(pyt.image_to_string(finalimage_gaussian, config=custom_config))"
   ]
  }
 ],
 "metadata": {
  "kernelspec": {
   "display_name": "Python 3 (ipykernel)",
   "language": "python",
   "name": "python3"
  },
  "language_info": {
   "codemirror_mode": {
    "name": "ipython",
    "version": 3
   },
   "file_extension": ".py",
   "mimetype": "text/x-python",
   "name": "python",
   "nbconvert_exporter": "python",
   "pygments_lexer": "ipython3",
   "version": "3.9.4"
  }
 },
 "nbformat": 4,
 "nbformat_minor": 5
}
